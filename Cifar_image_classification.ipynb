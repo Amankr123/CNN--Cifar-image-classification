{
  "nbformat": 4,
  "nbformat_minor": 0,
  "metadata": {
    "accelerator": "GPU",
    "colab": {
      "name": "Untitled114.ipynb",
      "provenance": []
    },
    "kernelspec": {
      "display_name": "Python 3",
      "name": "python3"
    },
    "language_info": {
      "name": "python"
    }
  },
  "cells": [
    {
      "cell_type": "markdown",
      "metadata": {
        "id": "N3Ccv0RfffZ4"
      },
      "source": [
        "# cifar image classification\n",
        "\n"
      ]
    },
    {
      "cell_type": "code",
      "metadata": {
        "id": "kZRUvlzjXe-j"
      },
      "source": [
        "import tensorflow as tf\n",
        "from tensorflow.keras import datasets, layers, models\n",
        "import matplotlib.pyplot as plt\n",
        "import numpy as np"
      ],
      "execution_count": null,
      "outputs": []
    },
    {
      "cell_type": "code",
      "metadata": {
        "colab": {
          "base_uri": "https://localhost:8080/"
        },
        "id": "wCfL014RXf-V",
        "outputId": "eec6e3e4-9f0d-4a2b-a1cf-83cc028c007b"
      },
      "source": [
        "#load dataset\n",
        "(X_train, y_train), (X_test,y_test) = datasets.cifar10.load_data()\n",
        "X_train.shape"
      ],
      "execution_count": null,
      "outputs": [
        {
          "output_type": "stream",
          "text": [
            "Downloading data from https://www.cs.toronto.edu/~kriz/cifar-10-python.tar.gz\n",
            "170500096/170498071 [==============================] - 4s 0us/step\n"
          ],
          "name": "stdout"
        },
        {
          "output_type": "execute_result",
          "data": {
            "text/plain": [
              "(50000, 32, 32, 3)"
            ]
          },
          "metadata": {
            "tags": []
          },
          "execution_count": 4
        }
      ]
    },
    {
      "cell_type": "code",
      "metadata": {
        "colab": {
          "base_uri": "https://localhost:8080/"
        },
        "id": "dY9kmqC3XrjH",
        "outputId": "36cdc03c-aa83-4cc9-c08b-282b88d01c27"
      },
      "source": [
        "print(X_train.shape,y_train.shape,X_test.shape,y_test.shape)"
      ],
      "execution_count": null,
      "outputs": [
        {
          "output_type": "stream",
          "text": [
            "(50000, 32, 32, 3) (50000, 1) (10000, 32, 32, 3) (10000, 1)\n"
          ],
          "name": "stdout"
        }
      ]
    },
    {
      "cell_type": "code",
      "metadata": {
        "colab": {
          "base_uri": "https://localhost:8080/"
        },
        "id": "Q6_2m8-2Xk47",
        "outputId": "944c5a24-56b6-4260-bf3d-ea43ec7bca44"
      },
      "source": [
        "y_train[:5]"
      ],
      "execution_count": null,
      "outputs": [
        {
          "output_type": "execute_result",
          "data": {
            "text/plain": [
              "array([[6],\n",
              "       [9],\n",
              "       [9],\n",
              "       [4],\n",
              "       [1]], dtype=uint8)"
            ]
          },
          "metadata": {
            "tags": []
          },
          "execution_count": 6
        }
      ]
    },
    {
      "cell_type": "code",
      "metadata": {
        "colab": {
          "base_uri": "https://localhost:8080/"
        },
        "id": "avXiOXR-Xqin",
        "outputId": "31d5db4c-b4ec-4b38-b22b-4cb8bd5f7261"
      },
      "source": [
        "y_train = y_train.reshape(-1,)\n",
        "y_test = y_test.reshape(-1,)\n",
        "y_train[:5]"
      ],
      "execution_count": null,
      "outputs": [
        {
          "output_type": "execute_result",
          "data": {
            "text/plain": [
              "array([6, 9, 9, 4, 1], dtype=uint8)"
            ]
          },
          "metadata": {
            "tags": []
          },
          "execution_count": 7
        }
      ]
    },
    {
      "cell_type": "code",
      "metadata": {
        "id": "owqbzoq9X_r6"
      },
      "source": [
        "classes = [\"airplane\",\"automobile\",\"bird\",\"cat\",\"deer\",\"dog\",\"frog\",\"horse\",\"ship\",\"truck\"]"
      ],
      "execution_count": null,
      "outputs": []
    },
    {
      "cell_type": "code",
      "metadata": {
        "colab": {
          "base_uri": "https://localhost:8080/",
          "height": 297
        },
        "id": "mT1cO3owYRrA",
        "outputId": "469a2616-e363-4c2d-fcd4-04d92619d203"
      },
      "source": [
        "plt.imshow(X_train[8])\n",
        "plt.xlabel(classes[8])"
      ],
      "execution_count": null,
      "outputs": [
        {
          "output_type": "execute_result",
          "data": {
            "text/plain": [
              "Text(0.5, 0, 'ship')"
            ]
          },
          "metadata": {
            "tags": []
          },
          "execution_count": 9
        },
        {
          "output_type": "display_data",
          "data": {
            "image/png": "[encoded data removed]",
            "text/plain": [
              "<Figure size 432x288 with 1 Axes>"
            ]
          },
          "metadata": {
            "tags": []
          }
        }
      ]
    },
    {
      "cell_type": "code",
      "metadata": {
        "id": "D9x5w1nyYbVM"
      },
      "source": [
        "#Normalizing the data\n",
        "\n",
        "X_train = X_train / 255.0\n",
        "X_test = X_test / 255.0"
      ],
      "execution_count": null,
      "outputs": []
    },
    {
      "cell_type": "markdown",
      "metadata": {
        "id": "R5U0VikBZCrp"
      },
      "source": [
        "#CNN Model Building"
      ]
    },
    {
      "cell_type": "code",
      "metadata": {
        "id": "E3oiPWaLZCBw"
      },
      "source": [
        "model1 = models.Sequential([\n",
        "    layers.Conv2D(filters=32, kernel_size=(3, 3), activation='relu', input_shape=(32, 32, 3)),\n",
        "    layers.MaxPooling2D((2, 2)),\n",
        "    \n",
        "    layers.Conv2D(filters=80, kernel_size=(3, 3), activation='relu'),\n",
        "    layers.MaxPooling2D((2, 2)),\n",
        "\n",
        "    layers.Conv2D(filters=80, kernel_size=(3, 3), activation='relu'),\n",
        "    layers.MaxPooling2D((2, 2)),\n",
        "    \n",
        "    layers.Flatten(),\n",
        "    layers.Dense(80, activation='relu'),\n",
        "    layers.Dense(10, activation='softmax')\n",
        "])\n"
      ],
      "execution_count": null,
      "outputs": []
    },
    {
      "cell_type": "code",
      "metadata": {
        "id": "nVUnqLvbY5dq"
      },
      "source": [
        "model1.compile(optimizer='adam',\n",
        "              loss='sparse_categorical_crossentropy',\n",
        "              metrics=['accuracy'])"
      ],
      "execution_count": null,
      "outputs": []
    },
    {
      "cell_type": "code",
      "metadata": {
        "colab": {
          "background_save": true,
          "base_uri": "https://localhost:8080/"
        },
        "id": "FaOMuvYIZk8Z",
        "outputId": "0f2fbaed-b026-4c8a-821c-9de5613336c2"
      },
      "source": [
        "model1.fit(X_train, y_train, epochs=15)"
      ],
      "execution_count": null,
      "outputs": [
        {
          "output_type": "stream",
          "text": [
            "Epoch 1/15\n",
            "1563/1563 [==============================] - 74s 47ms/step - loss: 1.4959 - accuracy: 0.4585\n",
            "Epoch 2/15\n",
            "1563/1563 [==============================] - 73s 47ms/step - loss: 1.1364 - accuracy: 0.6008\n",
            "Epoch 3/15\n",
            "1563/1563 [==============================] - 72s 46ms/step - loss: 0.9908 - accuracy: 0.6544\n",
            "Epoch 4/15\n",
            "1563/1563 [==============================] - 73s 47ms/step - loss: 0.8866 - accuracy: 0.6900\n",
            "Epoch 5/15\n",
            "1563/1563 [==============================] - 72s 46ms/step - loss: 0.8073 - accuracy: 0.7184\n",
            "Epoch 6/15\n",
            "1563/1563 [==============================] - 72s 46ms/step - loss: 0.7433 - accuracy: 0.7419\n",
            "Epoch 7/15\n",
            "1563/1563 [==============================] - 72s 46ms/step - loss: 0.6901 - accuracy: 0.7592\n",
            "Epoch 8/15\n",
            "1563/1563 [==============================] - 72s 46ms/step - loss: 0.6417 - accuracy: 0.7774\n",
            "Epoch 9/15\n",
            "1563/1563 [==============================] - 71s 46ms/step - loss: 0.5982 - accuracy: 0.7906\n",
            "Epoch 10/15\n",
            "1563/1563 [==============================] - 72s 46ms/step - loss: 0.5561 - accuracy: 0.8043\n",
            "Epoch 11/15\n",
            "1563/1563 [==============================] - 72s 46ms/step - loss: 0.5227 - accuracy: 0.8158\n",
            "Epoch 12/15\n",
            "1563/1563 [==============================] - 71s 46ms/step - loss: 0.4867 - accuracy: 0.8285\n",
            "Epoch 13/15\n",
            "1563/1563 [==============================] - 72s 46ms/step - loss: 0.4566 - accuracy: 0.8377\n",
            "Epoch 14/15\n",
            "1563/1563 [==============================] - 72s 46ms/step - loss: 0.4227 - accuracy: 0.8503\n",
            "Epoch 15/15\n",
            "1563/1563 [==============================] - 72s 46ms/step - loss: 0.4014 - accuracy: 0.8566\n"
          ],
          "name": "stdout"
        },
        {
          "output_type": "execute_result",
          "data": {
            "text/plain": [
              "<tensorflow.python.keras.callbacks.History at 0x7f9de5d51f10>"
            ]
          },
          "metadata": {
            "tags": []
          },
          "execution_count": 0
        }
      ]
    },
    {
      "cell_type": "code",
      "metadata": {
        "colab": {
          "base_uri": "https://localhost:8080/"
        },
        "id": "e3e8dgQrZqzO",
        "outputId": "24516b22-2fbb-464f-ba48-dfa3c6fdea05"
      },
      "source": [
        "model1.evaluate(X_test,y_test)"
      ],
      "execution_count": null,
      "outputs": [
        {
          "output_type": "stream",
          "text": [
            "313/313 [==============================] - 1s 2ms/step - loss: 1.4820 - accuracy: 0.6991\n"
          ],
          "name": "stdout"
        },
        {
          "output_type": "execute_result",
          "data": {
            "text/plain": [
              "[1.4820088148117065, 0.6991000175476074]"
            ]
          },
          "metadata": {
            "tags": []
          },
          "execution_count": 15
        }
      ]
    },
    {
      "cell_type": "code",
      "metadata": {
        "colab": {
          "base_uri": "https://localhost:8080/"
        },
        "id": "leS0O1XwdkYS",
        "outputId": "fc2bf6ea-1fc4-400a-f01d-d90911b18cea"
      },
      "source": [
        "y_pred = model1.predict(X_test)\n",
        "y_pred[:5]"
      ],
      "execution_count": null,
      "outputs": [
        {
          "output_type": "execute_result",
          "data": {
            "text/plain": [
              "array([[5.3683760e-08, 5.5512235e-08, 5.2384299e-04, 9.8084795e-01,\n",
              "        6.5470034e-09, 1.7035473e-02, 1.5924543e-03, 9.0995735e-12,\n",
              "        9.4850819e-08, 9.9576278e-11],\n",
              "       [1.2719027e-02, 1.3837126e-02, 1.0431174e-15, 6.3604822e-14,\n",
              "        5.6235393e-19, 1.8289733e-18, 5.2576959e-19, 4.4869673e-19,\n",
              "        9.6844256e-01, 5.0013196e-03],\n",
              "       [8.8059176e-03, 1.0100083e-02, 2.1458140e-05, 1.5793206e-05,\n",
              "        1.2137164e-07, 1.2313680e-07, 1.6035386e-08, 6.5670861e-07,\n",
              "        9.6319902e-01, 1.7856868e-02],\n",
              "       [9.7690797e-01, 1.2001282e-08, 2.3082394e-02, 2.3248469e-07,\n",
              "        5.1639216e-13, 2.8748543e-11, 1.2992417e-10, 2.4819747e-18,\n",
              "        9.4795241e-06, 7.0267463e-09],\n",
              "       [1.8868561e-13, 2.2926604e-10, 8.3187246e-07, 1.9236566e-07,\n",
              "        3.9753746e-07, 7.2263262e-10, 9.9999845e-01, 6.5740272e-17,\n",
              "        1.5306175e-07, 1.5261752e-14]], dtype=float32)"
            ]
          },
          "metadata": {
            "tags": []
          },
          "execution_count": 16
        }
      ]
    },
    {
      "cell_type": "code",
      "metadata": {
        "colab": {
          "base_uri": "https://localhost:8080/"
        },
        "id": "XLHPGY5tdwMD",
        "outputId": "ce8c7d28-2dcf-4bfe-e6ab-64664e38f515"
      },
      "source": [
        "y_pred1 = [np.argmax(element) for element in y_pred]\n",
        "y_pred1[:5]"
      ],
      "execution_count": 22,
      "outputs": [
        {
          "output_type": "execute_result",
          "data": {
            "text/plain": [
              "[3, 8, 8, 0, 6]"
            ]
          },
          "metadata": {
            "tags": []
          },
          "execution_count": 22
        }
      ]
    },
    {
      "cell_type": "code",
      "metadata": {
        "colab": {
          "base_uri": "https://localhost:8080/"
        },
        "id": "UjPytyHheHma",
        "outputId": "e9297671-b40d-4cd3-d9a8-f69d47ea6f86"
      },
      "source": [
        "from sklearn.metrics import confusion_matrix,f1_score,accuracy_score,classification_report\n",
        "confusion_matrix(y_test,y_pred1)"
      ],
      "execution_count": 23,
      "outputs": [
        {
          "output_type": "execute_result",
          "data": {
            "text/plain": [
              "array([[750,  17,  54,  24,  11,   6,  12,  16,  65,  45],\n",
              "       [ 32, 813,  10,   7,   3,   9,   9,   7,  35,  75],\n",
              "       [ 80,  10, 579,  59,  56,  89,  78,  22,  18,   9],\n",
              "       [ 31,   8,  60, 490,  34, 236,  80,  26,  16,  19],\n",
              "       [ 27,   5,  87,  69, 557,  85,  90,  61,  14,   5],\n",
              "       [ 15,   9,  39, 126,  23, 709,  30,  34,   5,  10],\n",
              "       [ 10,   9,  43,  52,  22,  44, 799,   5,  10,   6],\n",
              "       [ 22,   5,  33,  48,  47, 121,   8, 693,   2,  21],\n",
              "       [ 76,  19,  15,  13,   5,   5,   8,   4, 813,  42],\n",
              "       [ 42,  77,  12,   9,   2,  12,  11,  24,  23, 788]])"
            ]
          },
          "metadata": {
            "tags": []
          },
          "execution_count": 23
        }
      ]
    },
    {
      "cell_type": "code",
      "metadata": {
        "colab": {
          "base_uri": "https://localhost:8080/"
        },
        "id": "xnZm5cztessS",
        "outputId": "bfe4070e-73fd-4fc8-b5ff-e8a066a5a98e"
      },
      "source": [
        "accuracy_score(y_test,y_pred1)"
      ],
      "execution_count": 24,
      "outputs": [
        {
          "output_type": "execute_result",
          "data": {
            "text/plain": [
              "0.6991"
            ]
          },
          "metadata": {
            "tags": []
          },
          "execution_count": 24
        }
      ]
    },
    {
      "cell_type": "code",
      "metadata": {
        "colab": {
          "base_uri": "https://localhost:8080/"
        },
        "id": "Ui-VAbSQfEW7",
        "outputId": "a18a7296-837d-4c3d-8000-808241fc3323"
      },
      "source": [
        "print(classification_report(y_test,y_pred1))"
      ],
      "execution_count": 25,
      "outputs": [
        {
          "output_type": "stream",
          "text": [
            "              precision    recall  f1-score   support\n",
            "\n",
            "           0       0.69      0.75      0.72      1000\n",
            "           1       0.84      0.81      0.82      1000\n",
            "           2       0.62      0.58      0.60      1000\n",
            "           3       0.55      0.49      0.52      1000\n",
            "           4       0.73      0.56      0.63      1000\n",
            "           5       0.54      0.71      0.61      1000\n",
            "           6       0.71      0.80      0.75      1000\n",
            "           7       0.78      0.69      0.73      1000\n",
            "           8       0.81      0.81      0.81      1000\n",
            "           9       0.77      0.79      0.78      1000\n",
            "\n",
            "    accuracy                           0.70     10000\n",
            "   macro avg       0.70      0.70      0.70     10000\n",
            "weighted avg       0.70      0.70      0.70     10000\n",
            "\n"
          ],
          "name": "stdout"
        }
      ]
    },
    {
      "cell_type": "code",
      "metadata": {
        "id": "bpdh98BlfVmY"
      },
      "source": [
        ""
      ],
      "execution_count": 25,
      "outputs": []
    }
  ]
}